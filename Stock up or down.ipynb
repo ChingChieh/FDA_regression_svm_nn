{
 "cells": [
  {
   "cell_type": "code",
   "execution_count": 1,
   "metadata": {},
   "outputs": [],
   "source": [
    "import pandas as pd\n",
    "import numpy as np\n",
    "import matplotlib.pyplot as plt\n",
    "%matplotlib inline"
   ]
  },
  {
   "cell_type": "code",
   "execution_count": 2,
   "metadata": {},
   "outputs": [],
   "source": [
    "import warnings\n",
    "warnings.filterwarnings(\"ignore\")"
   ]
  },
  {
   "cell_type": "markdown",
   "metadata": {},
   "source": [
    "# Data Preprocession\n",
    "- 先增加一個 column **Up** 來標示出隔天收盤價是否為漲，1 代表漲; 0 代表跌"
   ]
  },
  {
   "cell_type": "code",
   "execution_count": 36,
   "metadata": {},
   "outputs": [
    {
     "data": {
      "text/html": [
       "<div>\n",
       "<style scoped>\n",
       "    .dataframe tbody tr th:only-of-type {\n",
       "        vertical-align: middle;\n",
       "    }\n",
       "\n",
       "    .dataframe tbody tr th {\n",
       "        vertical-align: top;\n",
       "    }\n",
       "\n",
       "    .dataframe thead th {\n",
       "        text-align: right;\n",
       "    }\n",
       "</style>\n",
       "<table border=\"1\" class=\"dataframe\">\n",
       "  <thead>\n",
       "    <tr style=\"text-align: right;\">\n",
       "      <th></th>\n",
       "      <th>Date</th>\n",
       "      <th>Open Price</th>\n",
       "      <th>Close Price</th>\n",
       "      <th>High Price</th>\n",
       "      <th>Low Price</th>\n",
       "      <th>Volume</th>\n",
       "    </tr>\n",
       "  </thead>\n",
       "  <tbody>\n",
       "    <tr>\n",
       "      <th>0</th>\n",
       "      <td>02-Jan-2009</td>\n",
       "      <td>902.99</td>\n",
       "      <td>931.80</td>\n",
       "      <td>934.73</td>\n",
       "      <td>899.35</td>\n",
       "      <td>4048270080</td>\n",
       "    </tr>\n",
       "    <tr>\n",
       "      <th>1</th>\n",
       "      <td>05-Jan-2009</td>\n",
       "      <td>929.17</td>\n",
       "      <td>927.45</td>\n",
       "      <td>936.63</td>\n",
       "      <td>919.53</td>\n",
       "      <td>5413910016</td>\n",
       "    </tr>\n",
       "    <tr>\n",
       "      <th>2</th>\n",
       "      <td>06-Jan-2009</td>\n",
       "      <td>931.17</td>\n",
       "      <td>934.70</td>\n",
       "      <td>943.85</td>\n",
       "      <td>927.28</td>\n",
       "      <td>5392620032</td>\n",
       "    </tr>\n",
       "    <tr>\n",
       "      <th>3</th>\n",
       "      <td>07-Jan-2009</td>\n",
       "      <td>927.45</td>\n",
       "      <td>906.65</td>\n",
       "      <td>927.45</td>\n",
       "      <td>902.37</td>\n",
       "      <td>4704940032</td>\n",
       "    </tr>\n",
       "    <tr>\n",
       "      <th>4</th>\n",
       "      <td>08-Jan-2009</td>\n",
       "      <td>905.73</td>\n",
       "      <td>909.73</td>\n",
       "      <td>910.00</td>\n",
       "      <td>896.81</td>\n",
       "      <td>4991549952</td>\n",
       "    </tr>\n",
       "  </tbody>\n",
       "</table>\n",
       "</div>"
      ],
      "text/plain": [
       "          Date  Open Price  Close Price  High Price  Low Price      Volume\n",
       "0  02-Jan-2009      902.99       931.80      934.73     899.35  4048270080\n",
       "1  05-Jan-2009      929.17       927.45      936.63     919.53  5413910016\n",
       "2  06-Jan-2009      931.17       934.70      943.85     927.28  5392620032\n",
       "3  07-Jan-2009      927.45       906.65      927.45     902.37  4704940032\n",
       "4  08-Jan-2009      905.73       909.73      910.00     896.81  4991549952"
      ]
     },
     "execution_count": 36,
     "metadata": {},
     "output_type": "execute_result"
    }
   ],
   "source": [
    "df = pd.read_csv('stock_FDA.csv')\n",
    "df.head()"
   ]
  },
  {
   "cell_type": "code",
   "execution_count": 37,
   "metadata": {},
   "outputs": [
    {
     "data": {
      "text/html": [
       "<div>\n",
       "<style scoped>\n",
       "    .dataframe tbody tr th:only-of-type {\n",
       "        vertical-align: middle;\n",
       "    }\n",
       "\n",
       "    .dataframe tbody tr th {\n",
       "        vertical-align: top;\n",
       "    }\n",
       "\n",
       "    .dataframe thead th {\n",
       "        text-align: right;\n",
       "    }\n",
       "</style>\n",
       "<table border=\"1\" class=\"dataframe\">\n",
       "  <thead>\n",
       "    <tr style=\"text-align: right;\">\n",
       "      <th></th>\n",
       "      <th>Date</th>\n",
       "      <th>Open Price</th>\n",
       "      <th>Close Price</th>\n",
       "      <th>High Price</th>\n",
       "      <th>Low Price</th>\n",
       "      <th>Volume</th>\n",
       "      <th>Up</th>\n",
       "    </tr>\n",
       "  </thead>\n",
       "  <tbody>\n",
       "    <tr>\n",
       "      <th>0</th>\n",
       "      <td>02-Jan-2009</td>\n",
       "      <td>902.99</td>\n",
       "      <td>931.80</td>\n",
       "      <td>934.73</td>\n",
       "      <td>899.35</td>\n",
       "      <td>4048270080</td>\n",
       "      <td>0</td>\n",
       "    </tr>\n",
       "    <tr>\n",
       "      <th>1</th>\n",
       "      <td>05-Jan-2009</td>\n",
       "      <td>929.17</td>\n",
       "      <td>927.45</td>\n",
       "      <td>936.63</td>\n",
       "      <td>919.53</td>\n",
       "      <td>5413910016</td>\n",
       "      <td>1</td>\n",
       "    </tr>\n",
       "    <tr>\n",
       "      <th>2</th>\n",
       "      <td>06-Jan-2009</td>\n",
       "      <td>931.17</td>\n",
       "      <td>934.70</td>\n",
       "      <td>943.85</td>\n",
       "      <td>927.28</td>\n",
       "      <td>5392620032</td>\n",
       "      <td>0</td>\n",
       "    </tr>\n",
       "    <tr>\n",
       "      <th>3</th>\n",
       "      <td>07-Jan-2009</td>\n",
       "      <td>927.45</td>\n",
       "      <td>906.65</td>\n",
       "      <td>927.45</td>\n",
       "      <td>902.37</td>\n",
       "      <td>4704940032</td>\n",
       "      <td>1</td>\n",
       "    </tr>\n",
       "    <tr>\n",
       "      <th>4</th>\n",
       "      <td>08-Jan-2009</td>\n",
       "      <td>905.73</td>\n",
       "      <td>909.73</td>\n",
       "      <td>910.00</td>\n",
       "      <td>896.81</td>\n",
       "      <td>4991549952</td>\n",
       "      <td>0</td>\n",
       "    </tr>\n",
       "  </tbody>\n",
       "</table>\n",
       "</div>"
      ],
      "text/plain": [
       "          Date  Open Price  Close Price  High Price  Low Price      Volume  Up\n",
       "0  02-Jan-2009      902.99       931.80      934.73     899.35  4048270080   0\n",
       "1  05-Jan-2009      929.17       927.45      936.63     919.53  5413910016   1\n",
       "2  06-Jan-2009      931.17       934.70      943.85     927.28  5392620032   0\n",
       "3  07-Jan-2009      927.45       906.65      927.45     902.37  4704940032   1\n",
       "4  08-Jan-2009      905.73       909.73      910.00     896.81  4991549952   0"
      ]
     },
     "execution_count": 37,
     "metadata": {},
     "output_type": "execute_result"
    }
   ],
   "source": [
    "def UpDown(closePrice):\n",
    "    up = []\n",
    "    for i in range(len(closePrice[:-1])):\n",
    "        if closePrice[i] < closePrice[i+1]:\n",
    "            up.append(1)\n",
    "        else:\n",
    "            up.append(0)\n",
    "    return up\n",
    "\n",
    "a = UpDown(df['Close Price'])\n",
    "df = df[:-1]\n",
    "df['Up'] = a\n",
    "df.head()"
   ]
  },
  {
   "cell_type": "markdown",
   "metadata": {},
   "source": [
    "# Data visualization"
   ]
  },
  {
   "cell_type": "code",
   "execution_count": 80,
   "metadata": {},
   "outputs": [
    {
     "data": {
      "text/plain": [
       "<matplotlib.legend.Legend at 0x143c02b70>"
      ]
     },
     "execution_count": 80,
     "metadata": {},
     "output_type": "execute_result"
    },
    {
     "data": {
      "image/png": "[encoded data removed]",
      "text/plain": [
       "<Figure size 900x600 with 1 Axes>"
      ]
     },
     "metadata": {
      "needs_background": "light"
     },
     "output_type": "display_data"
    }
   ],
   "source": [
    "fig = plt.figure(figsize=(9,6),dpi=100)  \n",
    "fig.suptitle('Stock tendency',y = 0.95, fontsize = 14, fontweight='bold')\n",
    "ax = fig.add_subplot(1,1,1)\n",
    "ax.plot(df['Open Price'][:50], color='b',label='Open Price')\n",
    "ax.plot(df['Close Price'][:50], color='g', label='Close Price')\n",
    "ax.plot(df['High Price'][:50], color='r', label='High Price' )\n",
    "ax.plot(df['Low Price'][:50], color='orange', label='Low Price' )\n",
    "ax.set_xlabel(\"Time\")      \n",
    "ax.set_ylabel(\"Price\")\n",
    "ax.legend(loc=3)"
   ]
  },
  {
   "cell_type": "code",
   "execution_count": 69,
   "metadata": {},
   "outputs": [
    {
     "data": {
      "text/plain": [
       "<matplotlib.legend.Legend at 0x138e42160>"
      ]
     },
     "execution_count": 69,
     "metadata": {},
     "output_type": "execute_result"
    },
    {
     "data": {
      "image/png": "[encoded data removed]",
      "text/plain": [
       "<Figure size 900x600 with 1 Axes>"
      ]
     },
     "metadata": {
      "needs_background": "light"
     },
     "output_type": "display_data"
    }
   ],
   "source": [
    "fig = plt.figure(figsize=(9,6),dpi=100)  \n",
    "fig.suptitle('Volume tendency',y = 0.95, fontsize = 14, fontweight='bold')\n",
    "ax = fig.add_subplot(1,1,1)\n",
    "ax.plot(df['Volume'][:50], color='b',label='Volume')\n",
    "ax.set_xlabel(\"Time\")      \n",
    "ax.set_ylabel(\"Value\")\n",
    "ax.legend(loc=4)"
   ]
  },
  {
   "cell_type": "markdown",
   "metadata": {},
   "source": [
    "# Logistic Regression\n",
    "- 增加一個 column 來表示明天是漲或是跌"
   ]
  },
  {
   "cell_type": "code",
   "execution_count": 5,
   "metadata": {},
   "outputs": [],
   "source": [
    "from sklearn.model_selection import train_test_split\n",
    "from sklearn.linear_model import LogisticRegression"
   ]
  },
  {
   "cell_type": "code",
   "execution_count": 38,
   "metadata": {},
   "outputs": [],
   "source": [
    "df_ = df.drop('Date',axis=1)\n",
    "X_train, X_test, y_train, y_test = train_test_split(df_.drop(['Up'],axis=1), \n",
    "                                                    df_['Up'], test_size=0.30)\n",
    "logmodel = LogisticRegression()\n",
    "logmodel.fit(X_train,y_train)\n",
    "predictions = logmodel.predict(X_test)"
   ]
  },
  {
   "cell_type": "code",
   "execution_count": 7,
   "metadata": {},
   "outputs": [],
   "source": [
    "from sklearn.metrics import classification_report\n",
    "from sklearn import metrics"
   ]
  },
  {
   "cell_type": "markdown",
   "metadata": {},
   "source": [
    "## Evaluate\n",
    "- 用最基本的方法直接做發現 Logistic regression 的 model always predict 1"
   ]
  },
  {
   "cell_type": "code",
   "execution_count": 201,
   "metadata": {},
   "outputs": [
    {
     "name": "stdout",
     "output_type": "stream",
     "text": [
      "              precision    recall  f1-score   support\n",
      "\n",
      "           0       0.00      0.00      0.00       307\n",
      "           1       0.55      1.00      0.71       372\n",
      "\n",
      "   micro avg       0.55      0.55      0.55       679\n",
      "   macro avg       0.27      0.50      0.35       679\n",
      "weighted avg       0.30      0.55      0.39       679\n",
      "\n"
     ]
    }
   ],
   "source": [
    "print(classification_report(y_test,predictions))"
   ]
  },
  {
   "cell_type": "code",
   "execution_count": 53,
   "metadata": {},
   "outputs": [
    {
     "data": {
      "text/plain": [
       "0.5552282768777614"
      ]
     },
     "execution_count": 53,
     "metadata": {},
     "output_type": "execute_result"
    }
   ],
   "source": [
    "metrics.accuracy_score(y_test,predictions)"
   ]
  },
  {
   "cell_type": "markdown",
   "metadata": {},
   "source": [
    "- 嘗試看看有沒有方法讓 model 開始 predict 0\n",
    "- 發現把 training data 中的 column **Volumn** drop 掉後開始會 predict 0 但次數仍然很少"
   ]
  },
  {
   "cell_type": "code",
   "execution_count": 207,
   "metadata": {},
   "outputs": [
    {
     "name": "stdout",
     "output_type": "stream",
     "text": [
      "              precision    recall  f1-score   support\n",
      "\n",
      "           0       0.43      0.13      0.20       305\n",
      "           1       0.55      0.86      0.67       374\n",
      "\n",
      "   micro avg       0.53      0.53      0.53       679\n",
      "   macro avg       0.49      0.50      0.44       679\n",
      "weighted avg       0.50      0.53      0.46       679\n",
      "\n",
      "Total number of 0: 92\n"
     ]
    }
   ],
   "source": [
    "X_train, X_test, y_train, y_test = train_test_split(df_.drop(['Up','Volume'],axis=1), \n",
    "                                                    df_['Up'], test_size=0.30)\n",
    "logmodel.fit(X_train,y_train)\n",
    "predictions = logmodel.predict(X_test)\n",
    "print(classification_report(y_test,predictions))\n",
    "print(\"Total number of 0:\",len(predictions[predictions == 0]))"
   ]
  },
  {
   "cell_type": "markdown",
   "metadata": {},
   "source": [
    "# SVM"
   ]
  },
  {
   "cell_type": "code",
   "execution_count": 62,
   "metadata": {},
   "outputs": [],
   "source": [
    "X_train, X_test, y_train, y_test = train_test_split(df_.drop(['Up','Date'],axis=1), \n",
    "                                                    df_['Up'], test_size=0.30)"
   ]
  },
  {
   "cell_type": "code",
   "execution_count": 63,
   "metadata": {},
   "outputs": [],
   "source": [
    "from sklearn.preprocessing import StandardScaler"
   ]
  },
  {
   "cell_type": "code",
   "execution_count": 64,
   "metadata": {},
   "outputs": [],
   "source": [
    "scaler = StandardScaler()\n",
    "scaler.fit(X_train)\n",
    "\n",
    "X_train_std = scaler.transform(X_train)\n",
    "X_test_std = scaler.transform(X_test)"
   ]
  },
  {
   "cell_type": "code",
   "execution_count": 59,
   "metadata": {},
   "outputs": [],
   "source": [
    "from sklearn.svm import SVC"
   ]
  },
  {
   "cell_type": "code",
   "execution_count": 65,
   "metadata": {},
   "outputs": [
    {
     "data": {
      "text/plain": [
       "SVC(C=1.0, cache_size=200, class_weight=None, coef0=0.0,\n",
       "  decision_function_shape='ovr', degree=3, gamma='auto_deprecated',\n",
       "  kernel='rbf', max_iter=-1, probability=False, random_state=None,\n",
       "  shrinking=True, tol=0.001, verbose=False)"
      ]
     },
     "execution_count": 65,
     "metadata": {},
     "output_type": "execute_result"
    }
   ],
   "source": [
    "svm = SVC()\n",
    "svm.fit(X_train, y_train)"
   ]
  },
  {
   "cell_type": "markdown",
   "metadata": {},
   "source": [
    "## Evaluate"
   ]
  },
  {
   "cell_type": "code",
   "execution_count": 66,
   "metadata": {},
   "outputs": [
    {
     "name": "stdout",
     "output_type": "stream",
     "text": [
      "              precision    recall  f1-score   support\n",
      "\n",
      "           0       0.00      0.00      0.00       295\n",
      "           1       0.56      1.00      0.72       382\n",
      "\n",
      "   micro avg       0.56      0.56      0.56       677\n",
      "   macro avg       0.28      0.50      0.36       677\n",
      "weighted avg       0.32      0.56      0.41       677\n",
      "\n"
     ]
    }
   ],
   "source": [
    "predictions = svm.predict(X_test)\n",
    "print(classification_report(y_test,predictions))"
   ]
  },
  {
   "cell_type": "code",
   "execution_count": 56,
   "metadata": {},
   "outputs": [
    {
     "data": {
      "text/plain": [
       "0.5493372606774669"
      ]
     },
     "execution_count": 56,
     "metadata": {},
     "output_type": "execute_result"
    }
   ],
   "source": [
    "metrics.accuracy_score(y_test,predictions)"
   ]
  },
  {
   "cell_type": "markdown",
   "metadata": {},
   "source": [
    "把 Volume drop 掉\n",
    "- 只有很少的情況下會預測 0 "
   ]
  },
  {
   "cell_type": "code",
   "execution_count": 54,
   "metadata": {},
   "outputs": [
    {
     "name": "stdout",
     "output_type": "stream",
     "text": [
      "              precision    recall  f1-score   support\n",
      "\n",
      "           0       0.52      0.04      0.08       306\n",
      "           1       0.55      0.97      0.70       373\n",
      "\n",
      "   micro avg       0.55      0.55      0.55       679\n",
      "   macro avg       0.54      0.51      0.39       679\n",
      "weighted avg       0.54      0.55      0.42       679\n",
      "\n",
      "0.5508100147275405\n",
      "Total number of 0: 25\n"
     ]
    }
   ],
   "source": [
    "X_train, X_test, y_train, y_test = train_test_split(df_.drop(['Up','Volume'],axis=1), \n",
    "                                                    df_['Up'], test_size=0.30)\n",
    "svm.fit(X_train,y_train)\n",
    "predictions_svm = svm.predict(X_test)\n",
    "print(classification_report(y_test,predictions_svm))\n",
    "print(metrics.accuracy_score(y_test,predictions_svm))\n",
    "print(\"Total number of 0:\",len(predictions_svm[predictions_svm == 0]))"
   ]
  },
  {
   "cell_type": "markdown",
   "metadata": {},
   "source": [
    "# Neural Network"
   ]
  },
  {
   "cell_type": "code",
   "execution_count": 70,
   "metadata": {},
   "outputs": [
    {
     "name": "stderr",
     "output_type": "stream",
     "text": [
      "Using TensorFlow backend.\n"
     ]
    }
   ],
   "source": [
    "from keras import models, layers, optimizers, regularizers\n",
    "from keras.optimizers import RMSprop"
   ]
  },
  {
   "cell_type": "code",
   "execution_count": 11,
   "metadata": {},
   "outputs": [],
   "source": [
    "X_train, X_test, y_train, y_test = train_test_split(df_.drop(['Up'],axis=1), \n",
    "                                                    df_['Up'], test_size=0.30)"
   ]
  },
  {
   "cell_type": "code",
   "execution_count": 59,
   "metadata": {},
   "outputs": [
    {
     "data": {
      "text/html": [
       "<div>\n",
       "<style scoped>\n",
       "    .dataframe tbody tr th:only-of-type {\n",
       "        vertical-align: middle;\n",
       "    }\n",
       "\n",
       "    .dataframe tbody tr th {\n",
       "        vertical-align: top;\n",
       "    }\n",
       "\n",
       "    .dataframe thead th {\n",
       "        text-align: right;\n",
       "    }\n",
       "</style>\n",
       "<table border=\"1\" class=\"dataframe\">\n",
       "  <thead>\n",
       "    <tr style=\"text-align: right;\">\n",
       "      <th></th>\n",
       "      <th>Open Price</th>\n",
       "      <th>Close Price</th>\n",
       "      <th>High Price</th>\n",
       "      <th>Low Price</th>\n",
       "      <th>Volume</th>\n",
       "    </tr>\n",
       "  </thead>\n",
       "  <tbody>\n",
       "    <tr>\n",
       "      <th>579</th>\n",
       "      <td>1319.12</td>\n",
       "      <td>1330.36</td>\n",
       "      <td>1332.66</td>\n",
       "      <td>1319.12</td>\n",
       "      <td>3550103040</td>\n",
       "    </tr>\n",
       "    <tr>\n",
       "      <th>750</th>\n",
       "      <td>1243.72</td>\n",
       "      <td>1254.00</td>\n",
       "      <td>1255.22</td>\n",
       "      <td>1243.72</td>\n",
       "      <td>2695881984</td>\n",
       "    </tr>\n",
       "    <tr>\n",
       "      <th>334</th>\n",
       "      <td>1188.58</td>\n",
       "      <td>1202.26</td>\n",
       "      <td>1205.13</td>\n",
       "      <td>1188.58</td>\n",
       "      <td>4938050048</td>\n",
       "    </tr>\n",
       "    <tr>\n",
       "      <th>101</th>\n",
       "      <td>907.02</td>\n",
       "      <td>919.14</td>\n",
       "      <td>920.02</td>\n",
       "      <td>903.56</td>\n",
       "      <td>6050420224</td>\n",
       "    </tr>\n",
       "    <tr>\n",
       "      <th>126</th>\n",
       "      <td>894.27</td>\n",
       "      <td>898.72</td>\n",
       "      <td>898.72</td>\n",
       "      <td>886.36</td>\n",
       "      <td>4712580096</td>\n",
       "    </tr>\n",
       "  </tbody>\n",
       "</table>\n",
       "</div>"
      ],
      "text/plain": [
       "     Open Price  Close Price  High Price  Low Price      Volume\n",
       "579     1319.12      1330.36     1332.66    1319.12  3550103040\n",
       "750     1243.72      1254.00     1255.22    1243.72  2695881984\n",
       "334     1188.58      1202.26     1205.13    1188.58  4938050048\n",
       "101      907.02       919.14      920.02     903.56  6050420224\n",
       "126      894.27       898.72      898.72     886.36  4712580096"
      ]
     },
     "execution_count": 59,
     "metadata": {},
     "output_type": "execute_result"
    }
   ],
   "source": [
    "X_train.head()"
   ]
  },
  {
   "cell_type": "code",
   "execution_count": 13,
   "metadata": {},
   "outputs": [
    {
     "name": "stdout",
     "output_type": "stream",
     "text": [
      "WARNING:tensorflow:From /Library/Frameworks/Python.framework/Versions/3.6/lib/python3.6/site-packages/tensorflow/python/framework/op_def_library.py:263: colocate_with (from tensorflow.python.framework.ops) is deprecated and will be removed in a future version.\n",
      "Instructions for updating:\n",
      "Colocations handled automatically by placer.\n",
      "_________________________________________________________________\n",
      "Layer (type)                 Output Shape              Param #   \n",
      "=================================================================\n",
      "dense_1 (Dense)              (None, 60)                360       \n",
      "_________________________________________________________________\n",
      "dense_2 (Dense)              (None, 1)                 61        \n",
      "=================================================================\n",
      "Total params: 421\n",
      "Trainable params: 421\n",
      "Non-trainable params: 0\n",
      "_________________________________________________________________\n"
     ]
    }
   ],
   "source": [
    "# create model\n",
    "model = models.Sequential()\n",
    "model.add(layers.Dense(60, input_dim=len(X_train.columns), kernel_initializer='normal', activation='relu'))\n",
    "model.add(layers.Dense(1, kernel_initializer='normal', activation='sigmoid'))\n",
    "# Compile model\n",
    "model.compile(loss='binary_crossentropy', optimizer='adam', metrics=['accuracy'])\n",
    "model.summary()"
   ]
  },
  {
   "cell_type": "code",
   "execution_count": 15,
   "metadata": {},
   "outputs": [
    {
     "name": "stdout",
     "output_type": "stream",
     "text": [
      "WARNING:tensorflow:From /Library/Frameworks/Python.framework/Versions/3.6/lib/python3.6/site-packages/tensorflow/python/ops/math_ops.py:3066: to_int32 (from tensorflow.python.ops.math_ops) is deprecated and will be removed in a future version.\n",
      "Instructions for updating:\n",
      "Use tf.cast instead.\n",
      "Epoch 1/5\n",
      "1584/1584 [==============================] - 0s 150us/step - loss: 8.6391 - acc: 0.4640\n",
      "Epoch 2/5\n",
      "1584/1584 [==============================] - 0s 28us/step - loss: 8.6391 - acc: 0.4640\n",
      "Epoch 3/5\n",
      "1584/1584 [==============================] - 0s 30us/step - loss: 8.6391 - acc: 0.4640\n",
      "Epoch 4/5\n",
      "1584/1584 [==============================] - 0s 28us/step - loss: 8.6391 - acc: 0.4640\n",
      "Epoch 5/5\n",
      "1584/1584 [==============================] - 0s 28us/step - loss: 8.6391 - acc: 0.4640\n"
     ]
    }
   ],
   "source": [
    "result = model.fit(X_train, y_train,\n",
    "                      batch_size=32,\n",
    "                      epochs=5)"
   ]
  },
  {
   "cell_type": "markdown",
   "metadata": {},
   "source": [
    "## Evaluate"
   ]
  },
  {
   "cell_type": "code",
   "execution_count": 22,
   "metadata": {},
   "outputs": [
    {
     "name": "stdout",
     "output_type": "stream",
     "text": [
      "0.5670103092783505\n",
      "              precision    recall  f1-score   support\n",
      "\n",
      "           0       0.49      0.16      0.24       292\n",
      "           1       0.58      0.88      0.70       387\n",
      "\n",
      "   micro avg       0.57      0.57      0.57       679\n",
      "   macro avg       0.53      0.52      0.47       679\n",
      "weighted avg       0.54      0.57      0.50       679\n",
      "\n",
      "Accuracy 0.5670103092783505\n"
     ]
    }
   ],
   "source": [
    "pred = model.predict_classes(X_test)\n",
    "pred = pred.reshape(len(pred),)\n",
    "print(metrics.accuracy_score(y_test,pred))\n",
    "print(classification_report(y_test,pred))\n",
    "print(\"Accuracy\",metrics.accuracy_score(y_test,pred))"
   ]
  },
  {
   "cell_type": "code",
   "execution_count": 27,
   "metadata": {},
   "outputs": [
    {
     "name": "stdout",
     "output_type": "stream",
     "text": [
      "Epoch 1/5\n",
      "1584/1584 [==============================] - 0s 272us/step - loss: 8.6461 - acc: 0.4476\n",
      "Epoch 2/5\n",
      "1584/1584 [==============================] - 0s 31us/step - loss: 1.1289 - acc: 0.4874\n",
      "Epoch 3/5\n",
      "1584/1584 [==============================] - 0s 31us/step - loss: 0.7867 - acc: 0.5101\n",
      "Epoch 4/5\n",
      "1584/1584 [==============================] - 0s 31us/step - loss: 0.8015 - acc: 0.5234\n",
      "Epoch 5/5\n",
      "1584/1584 [==============================] - 0s 29us/step - loss: 0.9461 - acc: 0.5177\n",
      "              precision    recall  f1-score   support\n",
      "\n",
      "           0       0.46      0.99      0.63       314\n",
      "           1       0.56      0.01      0.03       365\n",
      "\n",
      "   micro avg       0.46      0.46      0.46       679\n",
      "   macro avg       0.51      0.50      0.33       679\n",
      "weighted avg       0.51      0.46      0.31       679\n",
      "\n",
      "0.4639175257731959\n",
      "Total number of 0: 670\n"
     ]
    }
   ],
   "source": [
    "X_train, X_test, y_train, y_test = train_test_split(df_.drop(['Up','Volume'],axis=1), \n",
    "                                                    df_['Up'], test_size=0.30)\n",
    "\n",
    "# create model\n",
    "model = models.Sequential()\n",
    "model.add(layers.Dense(60, input_dim=len(X_train.columns), kernel_initializer='normal', activation='relu'))\n",
    "model.add(layers.Dense(1, kernel_initializer='normal', activation='sigmoid'))\n",
    "# Compile model\n",
    "model.compile(loss='binary_crossentropy', optimizer='adam', metrics=['accuracy'])\n",
    "\n",
    "result = model.fit(X_train, y_train, batch_size=32, epochs=5)\n",
    "\n",
    "predictions_NN = model.predict_classes(X_test)\n",
    "predictions_NN = predictions_NN.reshape(len(predictions_NN),)\n",
    "print(classification_report(y_test,predictions_NN))\n",
    "print(metrics.accuracy_score(y_test,predictions_NN))\n",
    "print(\"Total number of 0:\",len(predictions_NN[predictions_NN == 0]))"
   ]
  },
  {
   "cell_type": "markdown",
   "metadata": {},
   "source": [
    "## 發現一些有趣的事\n",
    "當沒有把 Answer column 從 X_train drop 掉時可以看到 model 可以漸漸提昇準確度"
   ]
  },
  {
   "cell_type": "code",
   "execution_count": 42,
   "metadata": {},
   "outputs": [
    {
     "name": "stdout",
     "output_type": "stream",
     "text": [
      "Epoch 1/10\n",
      "1577/1577 [==============================] - 1s 440us/step - loss: 0.6975 - acc: 0.5314\n",
      "Epoch 2/10\n",
      "1577/1577 [==============================] - 0s 35us/step - loss: 0.6800 - acc: 0.5707\n",
      "Epoch 3/10\n",
      "1577/1577 [==============================] - 0s 34us/step - loss: 0.6543 - acc: 0.6189\n",
      "Epoch 4/10\n",
      "1577/1577 [==============================] - 0s 31us/step - loss: 0.6257 - acc: 0.6481\n",
      "Epoch 5/10\n",
      "1577/1577 [==============================] - 0s 30us/step - loss: 0.5815 - acc: 0.7698\n",
      "Epoch 6/10\n",
      "1577/1577 [==============================] - 0s 31us/step - loss: 0.5351 - acc: 0.8212\n",
      "Epoch 7/10\n",
      "1577/1577 [==============================] - 0s 35us/step - loss: 0.4657 - acc: 0.9651\n",
      "Epoch 8/10\n",
      "1577/1577 [==============================] - 0s 34us/step - loss: 0.4152 - acc: 0.9296\n",
      "Epoch 9/10\n",
      "1577/1577 [==============================] - 0s 33us/step - loss: 0.3279 - acc: 1.0000\n",
      "Epoch 10/10\n",
      "1577/1577 [==============================] - 0s 31us/step - loss: 0.2855 - acc: 0.9956\n",
      "              precision    recall  f1-score   support\n",
      "\n",
      "           0       1.00      1.00      1.00       290\n",
      "           1       1.00      1.00      1.00       387\n",
      "\n",
      "   micro avg       1.00      1.00      1.00       677\n",
      "   macro avg       1.00      1.00      1.00       677\n",
      "weighted avg       1.00      1.00      1.00       677\n",
      "\n",
      "1.0\n",
      "Total number of 0: 290\n"
     ]
    }
   ],
   "source": [
    "X_train, X_test, y_train, y_test = train_test_split(df_.drop(['Date','Volume','Open Price',\n",
    "                                                    'Close Price','Low Price','High Price'],\n",
    "                                                    axis=1), df_['Up'], test_size=0.30)\n",
    "# create model\n",
    "model = models.Sequential()\n",
    "model.add(layers.Dense(60, input_dim=len(X_train.columns), kernel_initializer='normal', activation='relu'))\n",
    "model.add(layers.Dense(1, kernel_initializer='normal', activation='sigmoid'))\n",
    "# Compile model\n",
    "model.compile(loss='binary_crossentropy', optimizer='adam', metrics=['accuracy'])\n",
    "\n",
    "result = model.fit(X_train, y_train, batch_size=32, epochs=10)\n",
    "\n",
    "predictions_NN = model.predict_classes(X_test)\n",
    "predictions_NN = predictions_NN.reshape(len(predictions_NN),)\n",
    "print(classification_report(y_test,predictions_NN))\n",
    "print(metrics.accuracy_score(y_test,predictions_NN))\n",
    "print(\"Total number of 0:\",len(predictions_NN[predictions_NN == 0]))"
   ]
  },
  {
   "cell_type": "markdown",
   "metadata": {},
   "source": [
    "# Compare each method\n",
    "## 1. Using the baseline model\n",
    "### Accuracy\n",
    "- **Logistic regression**:0.5552282768777614\n",
    "- **SVM**:0.5316642120765832\n",
    "- **Neural Network**:0.5331369661266568\n",
    "\n",
    "### Discussion\n",
    "所有的 model 都只會預測 1 (Neuron Network 偶爾會猜 0)，所以 Accuracy 完全沒有參考價值，只是剛好比較多結果是 1 的被分在 testing data ， 因為目前每個 model 結果都很爛，因此我打算先想辦法讓他們都可以開始猜 0\n",
    "\n",
    "## 2. Try something to optimize\n",
    "* drop **Volumn** column\n",
    "    * some models **start to predict 0** but only very few time\n",
    "    * Neuron Network sometime all predict 1 but sometime all predict 0. Other situations predict really random amoung 0 and 1\n",
    "    * 意外發現當沒丟掉 Answer column 時，Neuron Network 是可以漸漸學到東西的，因此推論我們需要更多有用的 data 當作 input\n",
    "    * 結果在上面\n",
    "    \n",
    "## 3. Change data input\n",
    "* 希望新增一些有用的資料來當作 input\n",
    "* 新增 K,D 值來當作股票預測的指標\n",
    "* 新增一個欄位紀錄昨天是漲還是跌\n",
    "* 打算先想辦法讓其中一種方法的準確率上升"
   ]
  },
  {
   "cell_type": "code",
   "execution_count": 12,
   "metadata": {},
   "outputs": [],
   "source": [
    "def RSV(closePrice):\n",
    "    result = []\n",
    "    for i in range(len(closePrice[8:])):\n",
    "        PriceMin = min(closePrice[i],closePrice[i+1],closePrice[i+2],closePrice[i+3],\n",
    "        closePrice[i+4],closePrice[i+5],closePrice[i+6],closePrice[i+7],closePrice[i+8])\n",
    "        \n",
    "        PriceMax = max(closePrice[i],closePrice[i+1],closePrice[i+2],closePrice[i+3],\n",
    "        closePrice[i+4],closePrice[i+5],closePrice[i+6],closePrice[i+7],closePrice[i+8])\n",
    "        \n",
    "        rsv = 100 * ((closePrice[i+8] - PriceMin) / (PriceMax - PriceMin))\n",
    "        result.append(rsv)\n",
    "    return result\n",
    "def K(rsv):\n",
    "    K = [50]\n",
    "    K_lastday = 50\n",
    "    K_today = 0\n",
    "    ThirdTwo = 2/3\n",
    "    ThirdOne = 1/3\n",
    "    for i in range(1,len(rsv)):\n",
    "        K_today = K_lastday * ThirdTwo + rsv[i] * ThirdOne\n",
    "        K.append(K_today)\n",
    "        K_lastday = K_today\n",
    "    return K\n",
    "def D(k):\n",
    "    D = [50]\n",
    "    D_lastday = 50\n",
    "    D_today = 0\n",
    "    ThirdTwo = 2/3\n",
    "    ThirdOne = 1/3\n",
    "    for i in range(1,(len(k))):\n",
    "        D_today = D_lastday * ThirdTwo + k[i] * ThirdOne\n",
    "        D.append(D_today)\n",
    "        D_lastday = D_today\n",
    "    return D\n",
    "\n",
    "def Yesterday(up):\n",
    "    yesterdayList = []\n",
    "    for i in range(len(up) - 1):\n",
    "        yesterdayList.append(up[i])\n",
    "    return yesterdayList\n",
    "\n",
    "def OpenClose(x):\n",
    "    if x[0] > x[1]:\n",
    "        return 1\n",
    "    else:\n",
    "        return 0"
   ]
  },
  {
   "cell_type": "code",
   "execution_count": 47,
   "metadata": {},
   "outputs": [
    {
     "data": {
      "text/html": [
       "<div>\n",
       "<style scoped>\n",
       "    .dataframe tbody tr th:only-of-type {\n",
       "        vertical-align: middle;\n",
       "    }\n",
       "\n",
       "    .dataframe tbody tr th {\n",
       "        vertical-align: top;\n",
       "    }\n",
       "\n",
       "    .dataframe thead th {\n",
       "        text-align: right;\n",
       "    }\n",
       "</style>\n",
       "<table border=\"1\" class=\"dataframe\">\n",
       "  <thead>\n",
       "    <tr style=\"text-align: right;\">\n",
       "      <th></th>\n",
       "      <th>Date</th>\n",
       "      <th>Open Price</th>\n",
       "      <th>Close Price</th>\n",
       "      <th>High Price</th>\n",
       "      <th>Low Price</th>\n",
       "      <th>Volume</th>\n",
       "      <th>Up</th>\n",
       "      <th>RSV</th>\n",
       "      <th>K</th>\n",
       "      <th>D</th>\n",
       "      <th>Yesterday Up</th>\n",
       "    </tr>\n",
       "  </thead>\n",
       "  <tbody>\n",
       "    <tr>\n",
       "      <th>0</th>\n",
       "      <td>15-Jan-2009</td>\n",
       "      <td>841.99</td>\n",
       "      <td>843.74</td>\n",
       "      <td>851.59</td>\n",
       "      <td>817.04</td>\n",
       "      <td>7807350272</td>\n",
       "      <td>1</td>\n",
       "      <td>1.216334</td>\n",
       "      <td>33.738778</td>\n",
       "      <td>44.579593</td>\n",
       "      <td>1</td>\n",
       "    </tr>\n",
       "    <tr>\n",
       "      <th>1</th>\n",
       "      <td>16-Jan-2009</td>\n",
       "      <td>844.45</td>\n",
       "      <td>850.12</td>\n",
       "      <td>858.13</td>\n",
       "      <td>830.66</td>\n",
       "      <td>6786039808</td>\n",
       "      <td>0</td>\n",
       "      <td>8.145091</td>\n",
       "      <td>25.207549</td>\n",
       "      <td>38.122245</td>\n",
       "      <td>1</td>\n",
       "    </tr>\n",
       "    <tr>\n",
       "      <th>2</th>\n",
       "      <td>20-Jan-2009</td>\n",
       "      <td>849.64</td>\n",
       "      <td>805.22</td>\n",
       "      <td>849.64</td>\n",
       "      <td>804.47</td>\n",
       "      <td>6375229952</td>\n",
       "      <td>1</td>\n",
       "      <td>0.000000</td>\n",
       "      <td>16.805033</td>\n",
       "      <td>31.016507</td>\n",
       "      <td>0</td>\n",
       "    </tr>\n",
       "    <tr>\n",
       "      <th>3</th>\n",
       "      <td>21-Jan-2009</td>\n",
       "      <td>806.77</td>\n",
       "      <td>840.24</td>\n",
       "      <td>841.72</td>\n",
       "      <td>804.30</td>\n",
       "      <td>6467829760</td>\n",
       "      <td>0</td>\n",
       "      <td>33.508755</td>\n",
       "      <td>22.372940</td>\n",
       "      <td>28.135318</td>\n",
       "      <td>1</td>\n",
       "    </tr>\n",
       "    <tr>\n",
       "      <th>4</th>\n",
       "      <td>22-Jan-2009</td>\n",
       "      <td>839.74</td>\n",
       "      <td>827.50</td>\n",
       "      <td>839.74</td>\n",
       "      <td>811.29</td>\n",
       "      <td>5843829760</td>\n",
       "      <td>1</td>\n",
       "      <td>26.171737</td>\n",
       "      <td>23.639206</td>\n",
       "      <td>26.636614</td>\n",
       "      <td>0</td>\n",
       "    </tr>\n",
       "  </tbody>\n",
       "</table>\n",
       "</div>"
      ],
      "text/plain": [
       "          Date  Open Price  Close Price  High Price  Low Price      Volume  \\\n",
       "0  15-Jan-2009      841.99       843.74      851.59     817.04  7807350272   \n",
       "1  16-Jan-2009      844.45       850.12      858.13     830.66  6786039808   \n",
       "2  20-Jan-2009      849.64       805.22      849.64     804.47  6375229952   \n",
       "3  21-Jan-2009      806.77       840.24      841.72     804.30  6467829760   \n",
       "4  22-Jan-2009      839.74       827.50      839.74     811.29  5843829760   \n",
       "\n",
       "   Up        RSV          K          D  Yesterday Up  \n",
       "0   1   1.216334  33.738778  44.579593             1  \n",
       "1   0   8.145091  25.207549  38.122245             1  \n",
       "2   1   0.000000  16.805033  31.016507             0  \n",
       "3   0  33.508755  22.372940  28.135318             1  \n",
       "4   1  26.171737  23.639206  26.636614             0  "
      ]
     },
     "execution_count": 47,
     "metadata": {},
     "output_type": "execute_result"
    }
   ],
   "source": [
    "a = RSV(df['Close Price'])\n",
    "df_ = df[8:]\n",
    "df_['RSV'] = a\n",
    "df_ = df_.reset_index(drop=True)\n",
    "df_['K'] = K(df_['RSV'])\n",
    "df_['D'] = D(df_['K'])\n",
    "c = Yesterday(df_['Up'])\n",
    "df_ = df_[1:]\n",
    "df_[\"Yesterday Up\"] = c\n",
    "df_ = df_.reset_index(drop=True)\n",
    "df_.head()"
   ]
  },
  {
   "cell_type": "code",
   "execution_count": 22,
   "metadata": {},
   "outputs": [],
   "source": [
    "df_['Open vs Close'] = df_[['Open Price','Close Price']].apply(OpenClose, axis=1)"
   ]
  },
  {
   "cell_type": "code",
   "execution_count": 23,
   "metadata": {},
   "outputs": [
    {
     "data": {
      "text/html": [
       "<div>\n",
       "<style scoped>\n",
       "    .dataframe tbody tr th:only-of-type {\n",
       "        vertical-align: middle;\n",
       "    }\n",
       "\n",
       "    .dataframe tbody tr th {\n",
       "        vertical-align: top;\n",
       "    }\n",
       "\n",
       "    .dataframe thead th {\n",
       "        text-align: right;\n",
       "    }\n",
       "</style>\n",
       "<table border=\"1\" class=\"dataframe\">\n",
       "  <thead>\n",
       "    <tr style=\"text-align: right;\">\n",
       "      <th></th>\n",
       "      <th>Date</th>\n",
       "      <th>Open Price</th>\n",
       "      <th>Close Price</th>\n",
       "      <th>High Price</th>\n",
       "      <th>Low Price</th>\n",
       "      <th>Volume</th>\n",
       "      <th>Up</th>\n",
       "      <th>RSV</th>\n",
       "      <th>K</th>\n",
       "      <th>D</th>\n",
       "      <th>Yesterday Up</th>\n",
       "      <th>Open vs Close</th>\n",
       "    </tr>\n",
       "  </thead>\n",
       "  <tbody>\n",
       "    <tr>\n",
       "      <th>0</th>\n",
       "      <td>15-Jan-2009</td>\n",
       "      <td>841.99</td>\n",
       "      <td>843.74</td>\n",
       "      <td>851.59</td>\n",
       "      <td>817.04</td>\n",
       "      <td>7807350272</td>\n",
       "      <td>1</td>\n",
       "      <td>1.216334</td>\n",
       "      <td>33.738778</td>\n",
       "      <td>44.579593</td>\n",
       "      <td>1</td>\n",
       "      <td>0</td>\n",
       "    </tr>\n",
       "    <tr>\n",
       "      <th>1</th>\n",
       "      <td>16-Jan-2009</td>\n",
       "      <td>844.45</td>\n",
       "      <td>850.12</td>\n",
       "      <td>858.13</td>\n",
       "      <td>830.66</td>\n",
       "      <td>6786039808</td>\n",
       "      <td>0</td>\n",
       "      <td>8.145091</td>\n",
       "      <td>25.207549</td>\n",
       "      <td>38.122245</td>\n",
       "      <td>1</td>\n",
       "      <td>0</td>\n",
       "    </tr>\n",
       "    <tr>\n",
       "      <th>2</th>\n",
       "      <td>20-Jan-2009</td>\n",
       "      <td>849.64</td>\n",
       "      <td>805.22</td>\n",
       "      <td>849.64</td>\n",
       "      <td>804.47</td>\n",
       "      <td>6375229952</td>\n",
       "      <td>1</td>\n",
       "      <td>0.000000</td>\n",
       "      <td>16.805033</td>\n",
       "      <td>31.016507</td>\n",
       "      <td>0</td>\n",
       "      <td>1</td>\n",
       "    </tr>\n",
       "    <tr>\n",
       "      <th>3</th>\n",
       "      <td>21-Jan-2009</td>\n",
       "      <td>806.77</td>\n",
       "      <td>840.24</td>\n",
       "      <td>841.72</td>\n",
       "      <td>804.30</td>\n",
       "      <td>6467829760</td>\n",
       "      <td>0</td>\n",
       "      <td>33.508755</td>\n",
       "      <td>22.372940</td>\n",
       "      <td>28.135318</td>\n",
       "      <td>1</td>\n",
       "      <td>0</td>\n",
       "    </tr>\n",
       "    <tr>\n",
       "      <th>4</th>\n",
       "      <td>22-Jan-2009</td>\n",
       "      <td>839.74</td>\n",
       "      <td>827.50</td>\n",
       "      <td>839.74</td>\n",
       "      <td>811.29</td>\n",
       "      <td>5843829760</td>\n",
       "      <td>1</td>\n",
       "      <td>26.171737</td>\n",
       "      <td>23.639206</td>\n",
       "      <td>26.636614</td>\n",
       "      <td>0</td>\n",
       "      <td>1</td>\n",
       "    </tr>\n",
       "  </tbody>\n",
       "</table>\n",
       "</div>"
      ],
      "text/plain": [
       "          Date  Open Price  Close Price  High Price  Low Price      Volume  \\\n",
       "0  15-Jan-2009      841.99       843.74      851.59     817.04  7807350272   \n",
       "1  16-Jan-2009      844.45       850.12      858.13     830.66  6786039808   \n",
       "2  20-Jan-2009      849.64       805.22      849.64     804.47  6375229952   \n",
       "3  21-Jan-2009      806.77       840.24      841.72     804.30  6467829760   \n",
       "4  22-Jan-2009      839.74       827.50      839.74     811.29  5843829760   \n",
       "\n",
       "   Up        RSV          K          D  Yesterday Up  Open vs Close  \n",
       "0   1   1.216334  33.738778  44.579593             1              0  \n",
       "1   0   8.145091  25.207549  38.122245             1              0  \n",
       "2   1   0.000000  16.805033  31.016507             0              1  \n",
       "3   0  33.508755  22.372940  28.135318             1              0  \n",
       "4   1  26.171737  23.639206  26.636614             0              1  "
      ]
     },
     "execution_count": 23,
     "metadata": {},
     "output_type": "execute_result"
    }
   ],
   "source": [
    "df_.head()"
   ]
  },
  {
   "cell_type": "code",
   "execution_count": 24,
   "metadata": {},
   "outputs": [],
   "source": [
    "X_train, X_test, y_train, y_test = train_test_split(\n",
    "    df_.drop(['Date','Up','High Price','Low Price','RSV','Volume','Open vs Close'],axis=1), \n",
    "    df_['Up'], test_size=0.30)\n",
    "\n",
    "logmodel = LogisticRegression()\n",
    "logmodel.fit(X_train,y_train)\n",
    "predictions = logmodel.predict(X_test)"
   ]
  },
  {
   "cell_type": "markdown",
   "metadata": {},
   "source": [
    "**看到下面的結果我直接心態炸裂，我覺得根本是 dataset 的問題吧，不然就是我對股票的知識太少才會無法改進**"
   ]
  },
  {
   "cell_type": "code",
   "execution_count": 25,
   "metadata": {},
   "outputs": [
    {
     "name": "stdout",
     "output_type": "stream",
     "text": [
      "              precision    recall  f1-score   support\n",
      "\n",
      "           0       0.39      0.15      0.22       282\n",
      "           1       0.58      0.83      0.68       395\n",
      "\n",
      "   micro avg       0.55      0.55      0.55       677\n",
      "   macro avg       0.49      0.49      0.45       677\n",
      "weighted avg       0.50      0.55      0.49       677\n",
      "\n",
      "0.5494830132939439\n",
      "Total number of 0: 109\n"
     ]
    }
   ],
   "source": [
    "print(classification_report(y_test,predictions))\n",
    "print(metrics.accuracy_score(y_test,predictions))\n",
    "print(\"Total number of 0:\",len(predictions[predictions == 0]))"
   ]
  },
  {
   "cell_type": "markdown",
   "metadata": {},
   "source": [
    "# 4. 換方向\n",
    "- 先利用 linear regression 的 model 來預測明天的收盤價\n",
    "- 然後利用預測的明天收盤價來和今天的收盤價相比，如果較高則設 Pred Up 為 1，反之為 0，想說如果 Pred Up 可以跟 Up 很接近的話應該結果會不錯"
   ]
  },
  {
   "cell_type": "code",
   "execution_count": 39,
   "metadata": {},
   "outputs": [],
   "source": [
    "from sklearn.linear_model import LinearRegression"
   ]
  },
  {
   "cell_type": "code",
   "execution_count": 40,
   "metadata": {},
   "outputs": [],
   "source": [
    "lm = LinearRegression(normalize=True)"
   ]
  },
  {
   "cell_type": "code",
   "execution_count": 41,
   "metadata": {},
   "outputs": [],
   "source": [
    "def TomorrowPrice(Price):\n",
    "    Tomorrow = []\n",
    "    for i in range(len(Price) - 1):\n",
    "        Tomorrow.append(Price[i+1])\n",
    "    return Tomorrow"
   ]
  },
  {
   "cell_type": "code",
   "execution_count": 42,
   "metadata": {},
   "outputs": [],
   "source": [
    "t = TomorrowPrice(df['Close Price'])"
   ]
  },
  {
   "cell_type": "code",
   "execution_count": 43,
   "metadata": {},
   "outputs": [],
   "source": [
    "df_cool = df[:-1]\n",
    "df_cool['Tomorrow Close'] = t"
   ]
  },
  {
   "cell_type": "code",
   "execution_count": 44,
   "metadata": {},
   "outputs": [],
   "source": [
    "X = df_cool.drop(['Date','Tomorrow Close','Up'],axis=1)\n",
    "y = df_cool['Tomorrow Close']\n",
    "X_train, X_test, y_train, y_test = train_test_split(X, y, test_size=0.3)"
   ]
  },
  {
   "cell_type": "code",
   "execution_count": 49,
   "metadata": {},
   "outputs": [
    {
     "data": {
      "text/html": [
       "<div>\n",
       "<style scoped>\n",
       "    .dataframe tbody tr th:only-of-type {\n",
       "        vertical-align: middle;\n",
       "    }\n",
       "\n",
       "    .dataframe tbody tr th {\n",
       "        vertical-align: top;\n",
       "    }\n",
       "\n",
       "    .dataframe thead th {\n",
       "        text-align: right;\n",
       "    }\n",
       "</style>\n",
       "<table border=\"1\" class=\"dataframe\">\n",
       "  <thead>\n",
       "    <tr style=\"text-align: right;\">\n",
       "      <th></th>\n",
       "      <th>Open Price</th>\n",
       "      <th>Close Price</th>\n",
       "      <th>High Price</th>\n",
       "      <th>Low Price</th>\n",
       "      <th>Volume</th>\n",
       "    </tr>\n",
       "  </thead>\n",
       "  <tbody>\n",
       "    <tr>\n",
       "      <th>812</th>\n",
       "      <td>1392.78</td>\n",
       "      <td>1397.11</td>\n",
       "      <td>1399.18</td>\n",
       "      <td>1386.87</td>\n",
       "      <td>2587079936</td>\n",
       "    </tr>\n",
       "    <tr>\n",
       "      <th>373</th>\n",
       "      <td>1077.50</td>\n",
       "      <td>1074.57</td>\n",
       "      <td>1082.60</td>\n",
       "      <td>1071.45</td>\n",
       "      <td>3412819968</td>\n",
       "    </tr>\n",
       "    <tr>\n",
       "      <th>1798</th>\n",
       "      <td>1931.87</td>\n",
       "      <td>1951.70</td>\n",
       "      <td>1951.83</td>\n",
       "      <td>1925.41</td>\n",
       "      <td>2273025280</td>\n",
       "    </tr>\n",
       "    <tr>\n",
       "      <th>1862</th>\n",
       "      <td>2091.44</td>\n",
       "      <td>2090.10</td>\n",
       "      <td>2094.30</td>\n",
       "      <td>2087.08</td>\n",
       "      <td>1884462592</td>\n",
       "    </tr>\n",
       "    <tr>\n",
       "      <th>2020</th>\n",
       "      <td>2268.60</td>\n",
       "      <td>2275.32</td>\n",
       "      <td>2275.32</td>\n",
       "      <td>2260.83</td>\n",
       "      <td>2110331776</td>\n",
       "    </tr>\n",
       "  </tbody>\n",
       "</table>\n",
       "</div>"
      ],
      "text/plain": [
       "      Open Price  Close Price  High Price  Low Price      Volume\n",
       "812      1392.78      1397.11     1399.18    1386.87  2587079936\n",
       "373      1077.50      1074.57     1082.60    1071.45  3412819968\n",
       "1798     1931.87      1951.70     1951.83    1925.41  2273025280\n",
       "1862     2091.44      2090.10     2094.30    2087.08  1884462592\n",
       "2020     2268.60      2275.32     2275.32    2260.83  2110331776"
      ]
     },
     "execution_count": 49,
     "metadata": {},
     "output_type": "execute_result"
    }
   ],
   "source": [
    "X_train.head()"
   ]
  },
  {
   "cell_type": "markdown",
   "metadata": {},
   "source": [
    "### 畫出預測結果，自我感覺良好中"
   ]
  },
  {
   "cell_type": "code",
   "execution_count": 45,
   "metadata": {},
   "outputs": [
    {
     "data": {
      "text/plain": [
       "Text(0, 0.5, 'predicted y')"
      ]
     },
     "execution_count": 45,
     "metadata": {},
     "output_type": "execute_result"
    },
    {
     "data": {
      "image/png": "[encoded data removed]",
      "text/plain": [
       "<Figure size 432x288 with 1 Axes>"
      ]
     },
     "metadata": {
      "needs_background": "light"
     },
     "output_type": "display_data"
    }
   ],
   "source": [
    "lm.fit(X_train,y_train)\n",
    "prediction = lm.predict(X_test)\n",
    "plt.scatter(y_test,prediction, s = 20)\n",
    "plt.xlabel('y test')\n",
    "plt.ylabel('predicted y')"
   ]
  },
  {
   "cell_type": "code",
   "execution_count": 50,
   "metadata": {},
   "outputs": [
    {
     "data": {
      "text/html": [
       "<div>\n",
       "<style scoped>\n",
       "    .dataframe tbody tr th:only-of-type {\n",
       "        vertical-align: middle;\n",
       "    }\n",
       "\n",
       "    .dataframe tbody tr th {\n",
       "        vertical-align: top;\n",
       "    }\n",
       "\n",
       "    .dataframe thead th {\n",
       "        text-align: right;\n",
       "    }\n",
       "</style>\n",
       "<table border=\"1\" class=\"dataframe\">\n",
       "  <thead>\n",
       "    <tr style=\"text-align: right;\">\n",
       "      <th></th>\n",
       "      <th>Open Price</th>\n",
       "      <th>Close Price</th>\n",
       "      <th>High Price</th>\n",
       "      <th>Low Price</th>\n",
       "      <th>Volume</th>\n",
       "    </tr>\n",
       "  </thead>\n",
       "  <tbody>\n",
       "    <tr>\n",
       "      <th>0</th>\n",
       "      <td>841.99</td>\n",
       "      <td>843.74</td>\n",
       "      <td>851.59</td>\n",
       "      <td>817.04</td>\n",
       "      <td>7807350272</td>\n",
       "    </tr>\n",
       "    <tr>\n",
       "      <th>1</th>\n",
       "      <td>844.45</td>\n",
       "      <td>850.12</td>\n",
       "      <td>858.13</td>\n",
       "      <td>830.66</td>\n",
       "      <td>6786039808</td>\n",
       "    </tr>\n",
       "    <tr>\n",
       "      <th>2</th>\n",
       "      <td>849.64</td>\n",
       "      <td>805.22</td>\n",
       "      <td>849.64</td>\n",
       "      <td>804.47</td>\n",
       "      <td>6375229952</td>\n",
       "    </tr>\n",
       "    <tr>\n",
       "      <th>3</th>\n",
       "      <td>806.77</td>\n",
       "      <td>840.24</td>\n",
       "      <td>841.72</td>\n",
       "      <td>804.30</td>\n",
       "      <td>6467829760</td>\n",
       "    </tr>\n",
       "    <tr>\n",
       "      <th>4</th>\n",
       "      <td>839.74</td>\n",
       "      <td>827.50</td>\n",
       "      <td>839.74</td>\n",
       "      <td>811.29</td>\n",
       "      <td>5843829760</td>\n",
       "    </tr>\n",
       "  </tbody>\n",
       "</table>\n",
       "</div>"
      ],
      "text/plain": [
       "   Open Price  Close Price  High Price  Low Price      Volume\n",
       "0      841.99       843.74      851.59     817.04  7807350272\n",
       "1      844.45       850.12      858.13     830.66  6786039808\n",
       "2      849.64       805.22      849.64     804.47  6375229952\n",
       "3      806.77       840.24      841.72     804.30  6467829760\n",
       "4      839.74       827.50      839.74     811.29  5843829760"
      ]
     },
     "execution_count": 50,
     "metadata": {},
     "output_type": "execute_result"
    }
   ],
   "source": [
    "X_test = df_.drop(['Date','RSV','K','D','Yesterday Up','Up'],axis=1)\n",
    "X_test.head()"
   ]
  },
  {
   "cell_type": "code",
   "execution_count": 51,
   "metadata": {},
   "outputs": [],
   "source": [
    "pred_tomorrow = lm.predict(X_test)"
   ]
  },
  {
   "cell_type": "code",
   "execution_count": 52,
   "metadata": {},
   "outputs": [],
   "source": [
    "df_['Tomorrow Pred'] = pred_tomorrow"
   ]
  },
  {
   "cell_type": "code",
   "execution_count": 53,
   "metadata": {},
   "outputs": [
    {
     "data": {
      "text/html": [
       "<div>\n",
       "<style scoped>\n",
       "    .dataframe tbody tr th:only-of-type {\n",
       "        vertical-align: middle;\n",
       "    }\n",
       "\n",
       "    .dataframe tbody tr th {\n",
       "        vertical-align: top;\n",
       "    }\n",
       "\n",
       "    .dataframe thead th {\n",
       "        text-align: right;\n",
       "    }\n",
       "</style>\n",
       "<table border=\"1\" class=\"dataframe\">\n",
       "  <thead>\n",
       "    <tr style=\"text-align: right;\">\n",
       "      <th></th>\n",
       "      <th>Date</th>\n",
       "      <th>Open Price</th>\n",
       "      <th>Close Price</th>\n",
       "      <th>High Price</th>\n",
       "      <th>Low Price</th>\n",
       "      <th>Volume</th>\n",
       "      <th>Up</th>\n",
       "      <th>RSV</th>\n",
       "      <th>K</th>\n",
       "      <th>D</th>\n",
       "      <th>Yesterday Up</th>\n",
       "      <th>Tomorrow Pred</th>\n",
       "    </tr>\n",
       "  </thead>\n",
       "  <tbody>\n",
       "    <tr>\n",
       "      <th>0</th>\n",
       "      <td>15-Jan-2009</td>\n",
       "      <td>841.99</td>\n",
       "      <td>843.74</td>\n",
       "      <td>851.59</td>\n",
       "      <td>817.04</td>\n",
       "      <td>7807350272</td>\n",
       "      <td>1</td>\n",
       "      <td>1.216334</td>\n",
       "      <td>33.738778</td>\n",
       "      <td>44.579593</td>\n",
       "      <td>1</td>\n",
       "      <td>842.167944</td>\n",
       "    </tr>\n",
       "    <tr>\n",
       "      <th>1</th>\n",
       "      <td>16-Jan-2009</td>\n",
       "      <td>844.45</td>\n",
       "      <td>850.12</td>\n",
       "      <td>858.13</td>\n",
       "      <td>830.66</td>\n",
       "      <td>6786039808</td>\n",
       "      <td>0</td>\n",
       "      <td>8.145091</td>\n",
       "      <td>25.207549</td>\n",
       "      <td>38.122245</td>\n",
       "      <td>1</td>\n",
       "      <td>850.133087</td>\n",
       "    </tr>\n",
       "    <tr>\n",
       "      <th>2</th>\n",
       "      <td>20-Jan-2009</td>\n",
       "      <td>849.64</td>\n",
       "      <td>805.22</td>\n",
       "      <td>849.64</td>\n",
       "      <td>804.47</td>\n",
       "      <td>6375229952</td>\n",
       "      <td>1</td>\n",
       "      <td>0.000000</td>\n",
       "      <td>16.805033</td>\n",
       "      <td>31.016507</td>\n",
       "      <td>0</td>\n",
       "      <td>808.631145</td>\n",
       "    </tr>\n",
       "    <tr>\n",
       "      <th>3</th>\n",
       "      <td>21-Jan-2009</td>\n",
       "      <td>806.77</td>\n",
       "      <td>840.24</td>\n",
       "      <td>841.72</td>\n",
       "      <td>804.30</td>\n",
       "      <td>6467829760</td>\n",
       "      <td>0</td>\n",
       "      <td>33.508755</td>\n",
       "      <td>22.372940</td>\n",
       "      <td>28.135318</td>\n",
       "      <td>1</td>\n",
       "      <td>840.492468</td>\n",
       "    </tr>\n",
       "    <tr>\n",
       "      <th>4</th>\n",
       "      <td>22-Jan-2009</td>\n",
       "      <td>839.74</td>\n",
       "      <td>827.50</td>\n",
       "      <td>839.74</td>\n",
       "      <td>811.29</td>\n",
       "      <td>5843829760</td>\n",
       "      <td>1</td>\n",
       "      <td>26.171737</td>\n",
       "      <td>23.639206</td>\n",
       "      <td>26.636614</td>\n",
       "      <td>0</td>\n",
       "      <td>826.765328</td>\n",
       "    </tr>\n",
       "  </tbody>\n",
       "</table>\n",
       "</div>"
      ],
      "text/plain": [
       "          Date  Open Price  Close Price  High Price  Low Price      Volume  \\\n",
       "0  15-Jan-2009      841.99       843.74      851.59     817.04  7807350272   \n",
       "1  16-Jan-2009      844.45       850.12      858.13     830.66  6786039808   \n",
       "2  20-Jan-2009      849.64       805.22      849.64     804.47  6375229952   \n",
       "3  21-Jan-2009      806.77       840.24      841.72     804.30  6467829760   \n",
       "4  22-Jan-2009      839.74       827.50      839.74     811.29  5843829760   \n",
       "\n",
       "   Up        RSV          K          D  Yesterday Up  Tomorrow Pred  \n",
       "0   1   1.216334  33.738778  44.579593             1     842.167944  \n",
       "1   0   8.145091  25.207549  38.122245             1     850.133087  \n",
       "2   1   0.000000  16.805033  31.016507             0     808.631145  \n",
       "3   0  33.508755  22.372940  28.135318             1     840.492468  \n",
       "4   1  26.171737  23.639206  26.636614             0     826.765328  "
      ]
     },
     "execution_count": 53,
     "metadata": {},
     "output_type": "execute_result"
    }
   ],
   "source": [
    "df_.head()"
   ]
  },
  {
   "cell_type": "code",
   "execution_count": 54,
   "metadata": {},
   "outputs": [],
   "source": [
    "def BigSmall(x):\n",
    "    if x[1] > x[0]:\n",
    "        return 1\n",
    "    else:\n",
    "        return 0"
   ]
  },
  {
   "cell_type": "code",
   "execution_count": 55,
   "metadata": {},
   "outputs": [],
   "source": [
    "df_['Pred Up'] = df_[['Close Price','Tomorrow Pred']].apply(BigSmall, axis=1)"
   ]
  },
  {
   "cell_type": "code",
   "execution_count": 67,
   "metadata": {},
   "outputs": [],
   "source": [
    "X_train, X_test, y_train, y_test = train_test_split(\n",
    "    df_.drop(['Date','Up','High Price','Low Price','RSV','Volume'],axis=1), \n",
    "    df_['Up'], test_size=0.30)\n",
    "logmodel = LogisticRegression()\n",
    "logmodel.fit(X_train,y_train)\n",
    "predictions = logmodel.predict(X_test)"
   ]
  },
  {
   "cell_type": "markdown",
   "metadata": {},
   "source": [
    "## 登愣！結果出爐\n",
    "- 說真的我剛剛真的以為會有好結果的，但我還是太天真了，心態再次炸裂！！！！\n",
    "- 總而言之我就是個對股票完全不了解的低能兒"
   ]
  },
  {
   "cell_type": "markdown",
   "metadata": {},
   "source": [
    "### Logistic Regression"
   ]
  },
  {
   "cell_type": "code",
   "execution_count": 179,
   "metadata": {},
   "outputs": [
    {
     "name": "stdout",
     "output_type": "stream",
     "text": [
      "              precision    recall  f1-score   support\n",
      "\n",
      "           0       0.53      0.09      0.15       304\n",
      "           1       0.56      0.94      0.70       373\n",
      "\n",
      "   micro avg       0.56      0.56      0.56       677\n",
      "   macro avg       0.54      0.51      0.43       677\n",
      "weighted avg       0.54      0.56      0.45       677\n",
      "\n"
     ]
    }
   ],
   "source": [
    "print(classification_report(y_test,predictions))"
   ]
  },
  {
   "cell_type": "markdown",
   "metadata": {},
   "source": [
    "### SVM"
   ]
  },
  {
   "cell_type": "code",
   "execution_count": 68,
   "metadata": {},
   "outputs": [
    {
     "name": "stdout",
     "output_type": "stream",
     "text": [
      "              precision    recall  f1-score   support\n",
      "\n",
      "           0       0.50      0.02      0.04       301\n",
      "           1       0.56      0.98      0.71       376\n",
      "\n",
      "   micro avg       0.56      0.56      0.56       677\n",
      "   macro avg       0.53      0.50      0.37       677\n",
      "weighted avg       0.53      0.56      0.41       677\n",
      "\n"
     ]
    }
   ],
   "source": [
    "scaler = StandardScaler()\n",
    "scaler.fit(X_train)\n",
    "\n",
    "X_train_std = scaler.transform(X_train)\n",
    "X_test_std = scaler.transform(X_test)\n",
    "\n",
    "svm = SVC()\n",
    "svm.fit(X_train, y_train)\n",
    "\n",
    "predictions = svm.predict(X_test)\n",
    "print(classification_report(y_test,predictions))"
   ]
  },
  {
   "cell_type": "markdown",
   "metadata": {},
   "source": [
    "### NN"
   ]
  },
  {
   "cell_type": "code",
   "execution_count": 71,
   "metadata": {},
   "outputs": [
    {
     "name": "stdout",
     "output_type": "stream",
     "text": [
      "WARNING:tensorflow:From /Library/Frameworks/Python.framework/Versions/3.6/lib/python3.6/site-packages/tensorflow/python/framework/op_def_library.py:263: colocate_with (from tensorflow.python.framework.ops) is deprecated and will be removed in a future version.\n",
      "Instructions for updating:\n",
      "Colocations handled automatically by placer.\n",
      "WARNING:tensorflow:From /Library/Frameworks/Python.framework/Versions/3.6/lib/python3.6/site-packages/tensorflow/python/ops/math_ops.py:3066: to_int32 (from tensorflow.python.ops.math_ops) is deprecated and will be removed in a future version.\n",
      "Instructions for updating:\n",
      "Use tf.cast instead.\n",
      "Epoch 1/10\n",
      "1577/1577 [==============================] - 0s 149us/step - loss: 3.7764 - acc: 0.4826\n",
      "Epoch 2/10\n",
      "1577/1577 [==============================] - 0s 30us/step - loss: 0.7191 - acc: 0.5225\n",
      "Epoch 3/10\n",
      "1577/1577 [==============================] - 0s 30us/step - loss: 0.7530 - acc: 0.5212\n",
      "Epoch 4/10\n",
      "1577/1577 [==============================] - 0s 28us/step - loss: 0.7402 - acc: 0.5219\n",
      "Epoch 5/10\n",
      "1577/1577 [==============================] - 0s 29us/step - loss: 0.7556 - acc: 0.5111\n",
      "Epoch 6/10\n",
      "1577/1577 [==============================] - 0s 27us/step - loss: 0.7663 - acc: 0.5162\n",
      "Epoch 7/10\n",
      "1577/1577 [==============================] - 0s 29us/step - loss: 0.7670 - acc: 0.5073\n",
      "Epoch 8/10\n",
      "1577/1577 [==============================] - 0s 27us/step - loss: 0.7232 - acc: 0.5149\n",
      "Epoch 9/10\n",
      "1577/1577 [==============================] - 0s 27us/step - loss: 0.7331 - acc: 0.5130\n",
      "Epoch 10/10\n",
      "1577/1577 [==============================] - 0s 27us/step - loss: 0.7471 - acc: 0.4857\n",
      "              precision    recall  f1-score   support\n",
      "\n",
      "           0       0.00      0.00      0.00       301\n",
      "           1       0.56      1.00      0.71       376\n",
      "\n",
      "   micro avg       0.56      0.56      0.56       677\n",
      "   macro avg       0.28      0.50      0.36       677\n",
      "weighted avg       0.31      0.56      0.40       677\n",
      "\n",
      "0.5553914327917282\n",
      "Total number of 0: 0\n"
     ]
    }
   ],
   "source": [
    "# create model\n",
    "model = models.Sequential()\n",
    "model.add(layers.Dense(60, input_dim=len(X_train.columns), kernel_initializer='normal', activation='relu'))\n",
    "model.add(layers.Dense(1, kernel_initializer='normal', activation='sigmoid'))\n",
    "# Compile model\n",
    "model.compile(loss='binary_crossentropy', optimizer='adam', metrics=['accuracy'])\n",
    "\n",
    "result = model.fit(X_train, y_train, batch_size=32, epochs=10)\n",
    "\n",
    "predictions_NN = model.predict_classes(X_test)\n",
    "predictions_NN = predictions_NN.reshape(len(predictions_NN),)\n",
    "print(classification_report(y_test,predictions_NN))\n",
    "print(metrics.accuracy_score(y_test,predictions_NN))\n",
    "print(\"Total number of 0:\",len(predictions_NN[predictions_NN == 0]))"
   ]
  },
  {
   "cell_type": "markdown",
   "metadata": {},
   "source": [
    "# 5. 總結\n",
    "- 我還真的分不出來哪個 model 比較好，試過很多方法但還是找不到讓 model 明顯變好的方法"
   ]
  }
 ],
 "metadata": {
  "kernelspec": {
   "display_name": "Python 3",
   "language": "python",
   "name": "python3"
  },
  "language_info": {
   "codemirror_mode": {
    "name": "ipython",
    "version": 3
   },
   "file_extension": ".py",
   "mimetype": "text/x-python",
   "name": "python",
   "nbconvert_exporter": "python",
   "pygments_lexer": "ipython3",
   "version": "3.6.5"
  }
 },
 "nbformat": 4,
 "nbformat_minor": 2
}
